{
 "cells": [
  {
   "cell_type": "markdown",
   "metadata": {},
   "source": [
    "# Python Fundamentals for Data Science"
   ]
  },
  {
   "cell_type": "markdown",
   "metadata": {},
   "source": [
    "### Arithmetic (Operators)"
   ]
  },
  {
   "cell_type": "code",
   "execution_count": 4,
   "metadata": {},
   "outputs": [
    {
     "data": {
      "text/plain": [
       "64"
      ]
     },
     "execution_count": 4,
     "metadata": {},
     "output_type": "execute_result"
    }
   ],
   "source": [
    "#Addition \n",
    "\n",
    "100 + 20\n",
    "\n",
    "# Subtraction\n",
    "\n",
    "100 - 70\n",
    "\n",
    "# Division\n",
    "\n",
    "100 / 10\n",
    "\n",
    "# Multiplication\n",
    "\n",
    "100 * 20\n",
    "\n",
    "# Exponentiation\n",
    "\n",
    "2 ** 6"
   ]
  },
  {
   "cell_type": "markdown",
   "metadata": {},
   "source": [
    "### Print Statement"
   ]
  },
  {
   "cell_type": "code",
   "execution_count": 34,
   "metadata": {},
   "outputs": [
    {
     "name": "stdout",
     "output_type": "stream",
     "text": [
      "120\n",
      "30\n",
      "10.0\n",
      "2000\n",
      "64\n"
     ]
    }
   ],
   "source": [
    "#Addition \n",
    "\n",
    "print(100 + 20)\n",
    "\n",
    "# Subtraction\n",
    "\n",
    "print(100 - 70)\n",
    "\n",
    "# Division\n",
    "\n",
    "print(100 / 10) \n",
    "\n",
    "# Multiplication\n",
    "\n",
    "print(100 * 20)\n",
    "\n",
    "# Exponentiation\n",
    "\n",
    "print(2 ** 6)"
   ]
  },
  {
   "cell_type": "markdown",
   "metadata": {},
   "source": [
    "### Variables"
   ]
  },
  {
   "cell_type": "code",
   "execution_count": 7,
   "metadata": {},
   "outputs": [
    {
     "name": "stdout",
     "output_type": "stream",
     "text": [
      "30\n"
     ]
    }
   ],
   "source": [
    "result = 10 + 20 \n",
    "\n",
    "print(result)"
   ]
  },
  {
   "cell_type": "code",
   "execution_count": 9,
   "metadata": {},
   "outputs": [
    {
     "name": "stdout",
     "output_type": "stream",
     "text": [
      "30\n",
      "80\n"
     ]
    }
   ],
   "source": [
    "other_result = result + 50\n",
    "\n",
    "print(result)\n",
    "print(other_result)"
   ]
  },
  {
   "cell_type": "code",
   "execution_count": 10,
   "metadata": {},
   "outputs": [
    {
     "name": "stdout",
     "output_type": "stream",
     "text": [
      "20\n"
     ]
    }
   ],
   "source": [
    "result = result - 10\n",
    "\n",
    "print(result)"
   ]
  },
  {
   "cell_type": "code",
   "execution_count": 11,
   "metadata": {},
   "outputs": [
    {
     "name": "stdout",
     "output_type": "stream",
     "text": [
      "100\n"
     ]
    }
   ],
   "source": [
    "print(result + other_result)"
   ]
  },
  {
   "cell_type": "markdown",
   "metadata": {},
   "source": [
    "\n",
    "### Syntax Shortcuts"
   ]
  },
  {
   "cell_type": "code",
   "execution_count": 15,
   "metadata": {},
   "outputs": [
    {
     "name": "stdout",
     "output_type": "stream",
     "text": [
      "80\n",
      "10\n",
      "1000\n",
      "2.0\n",
      "64\n"
     ]
    }
   ],
   "source": [
    "# addition\n",
    "var_a = 50\n",
    "var_a += 30\n",
    "\n",
    "# subtraction\n",
    "var_b = 50\n",
    "var_b -= 40\n",
    "\n",
    "# multiplication\n",
    "var_c = 50\n",
    "var_c *= 20\n",
    "\n",
    "# division\n",
    "var_d = 10\n",
    "var_d /= 5\n",
    "\n",
    "# exponentiation\n",
    "var_e = 2\n",
    "var_e **= 6\n",
    "\n",
    "print(var_a)\n",
    "print(var_b)\n",
    "print(var_c)\n",
    "print(var_d)\n",
    "print(var_e)\n",
    "\n"
   ]
  },
  {
   "cell_type": "markdown",
   "metadata": {},
   "source": [
    "### Types"
   ]
  },
  {
   "cell_type": "code",
   "execution_count": 16,
   "metadata": {},
   "outputs": [
    {
     "data": {
      "text/plain": [
       "int"
      ]
     },
     "execution_count": 16,
     "metadata": {},
     "output_type": "execute_result"
    }
   ],
   "source": [
    "# integer \n",
    "type(20)"
   ]
  },
  {
   "cell_type": "code",
   "execution_count": 17,
   "metadata": {},
   "outputs": [
    {
     "data": {
      "text/plain": [
       "float"
      ]
     },
     "execution_count": 17,
     "metadata": {},
     "output_type": "execute_result"
    }
   ],
   "source": [
    "# float\n",
    "type(1.6)"
   ]
  },
  {
   "cell_type": "code",
   "execution_count": 18,
   "metadata": {},
   "outputs": [
    {
     "data": {
      "text/plain": [
       "str"
      ]
     },
     "execution_count": 18,
     "metadata": {},
     "output_type": "execute_result"
    }
   ],
   "source": [
    "# string\n",
    "type('Python for Healthcare')"
   ]
  },
  {
   "cell_type": "code",
   "execution_count": 20,
   "metadata": {},
   "outputs": [
    {
     "data": {
      "text/plain": [
       "bool"
      ]
     },
     "execution_count": 20,
     "metadata": {},
     "output_type": "execute_result"
    }
   ],
   "source": [
    "# boolean\n",
    "type(True)"
   ]
  },
  {
   "cell_type": "markdown",
   "metadata": {},
   "source": [
    "### Converting between types"
   ]
  },
  {
   "cell_type": "code",
   "execution_count": 21,
   "metadata": {},
   "outputs": [
    {
     "data": {
      "text/plain": [
       "10.0"
      ]
     },
     "execution_count": 21,
     "metadata": {},
     "output_type": "execute_result"
    }
   ],
   "source": [
    "# convert integer to float\n",
    "\n",
    "float(10)"
   ]
  },
  {
   "cell_type": "code",
   "execution_count": 22,
   "metadata": {},
   "outputs": [
    {
     "data": {
      "text/plain": [
       "2"
      ]
     },
     "execution_count": 22,
     "metadata": {},
     "output_type": "execute_result"
    }
   ],
   "source": [
    "\n",
    "\n",
    "int(2.7)"
   ]
  },
  {
   "cell_type": "code",
   "execution_count": 23,
   "metadata": {},
   "outputs": [
    {
     "data": {
      "text/plain": [
       "3"
      ]
     },
     "execution_count": 23,
     "metadata": {},
     "output_type": "execute_result"
    }
   ],
   "source": [
    "round(2.7)"
   ]
  },
  {
   "cell_type": "code",
   "execution_count": 24,
   "metadata": {},
   "outputs": [
    {
     "name": "stdout",
     "output_type": "stream",
     "text": [
      "4\n",
      "3.8\n"
     ]
    }
   ],
   "source": [
    "var = 3.8\n",
    "print(round(var))\n",
    "print(var)"
   ]
  },
  {
   "cell_type": "code",
   "execution_count": 25,
   "metadata": {},
   "outputs": [
    {
     "name": "stdout",
     "output_type": "stream",
     "text": [
      "4\n"
     ]
    }
   ],
   "source": [
    "var = 3.8\n",
    "var = round(var)\n",
    "print(var)"
   ]
  },
  {
   "cell_type": "markdown",
   "metadata": {},
   "source": [
    "### Strings"
   ]
  },
  {
   "cell_type": "code",
   "execution_count": 28,
   "metadata": {},
   "outputs": [
    {
     "name": "stdout",
     "output_type": "stream",
     "text": [
      "This is a string. This is also a string\n"
     ]
    }
   ],
   "source": [
    "string_a = \"This is a string\"\n",
    "\n",
    "string_b = 'This is also a string'\n",
    "\n",
    "string_c = \"This is you're string\"\n",
    "\n",
    "string_d = 'This is you\\'re string and it says \"A string has no string\"'\n",
    "\n",
    "# escape character: '\\'\n",
    "\n",
    "# Concatenating strings. \n",
    "\n",
    "con_string = string_a + '. ' + string_b\n",
    "print(con_string)"
   ]
  },
  {
   "cell_type": "code",
   "execution_count": 32,
   "metadata": {},
   "outputs": [
    {
     "name": "stdout",
     "output_type": "stream",
     "text": [
      "The cost of an item is £39.99\n"
     ]
    }
   ],
   "source": [
    "# Adding together strings and numbers.\n",
    "\n",
    "prepend_string = \"The cost of an item is\"\n",
    "cost = 39.99\n",
    "\n",
    "final_string = prepend_string + ' £' + str(cost)\n",
    "print(final_string)"
   ]
  },
  {
   "cell_type": "markdown",
   "metadata": {},
   "source": [
    "### Comments"
   ]
  },
  {
   "cell_type": "code",
   "execution_count": 33,
   "metadata": {},
   "outputs": [
    {
     "data": {
      "text/plain": [
       "10"
      ]
     },
     "execution_count": 33,
     "metadata": {},
     "output_type": "execute_result"
    }
   ],
   "source": [
    "# This is a comment. \n",
    "\n",
    "# Adding together two numbers\n",
    "5 + 5\n",
    "\n",
    "convert = int('100')\n",
    "print(convert)"
   ]
  },
  {
   "cell_type": "markdown",
   "metadata": {},
   "source": [
    "## Challenge"
   ]
  },
  {
   "cell_type": "code",
   "execution_count": 1,
   "metadata": {},
   "outputs": [],
   "source": [
    "# Using the variables below, print out to the screen the following: \n",
    "\n",
    "# \"Jane Doe takes propranolol 40 mg 4 times a day. Total dose in one day is 160mg.\"\n",
    "\n",
    "name = \"Jane Doe\"\n",
    "drug = \"propranolol\"\n",
    "dose = 40\n",
    "unit = \"mg\"\n",
    "frequency = 4\n",
    "\n",
    "\n",
    "# Start below\n",
    "\n",
    "\n"
   ]
  }
 ],
 "metadata": {
  "kernelspec": {
   "display_name": "Python 3",
   "language": "python",
   "name": "python3"
  },
  "language_info": {
   "codemirror_mode": {
    "name": "ipython",
    "version": 3
   },
   "file_extension": ".py",
   "mimetype": "text/x-python",
   "name": "python",
   "nbconvert_exporter": "python",
   "pygments_lexer": "ipython3",
   "version": "3.7.6"
  }
 },
 "nbformat": 4,
 "nbformat_minor": 4
}
